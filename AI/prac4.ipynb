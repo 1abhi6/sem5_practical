{
 "cells": [
  {
   "cell_type": "markdown",
   "metadata": {},
   "source": [
    "### 4A. Write a program to implement A* algorithm."
   ]
  },
  {
   "cell_type": "code",
   "execution_count": 1,
   "metadata": {},
   "outputs": [
    {
     "ename": "ModuleNotFoundError",
     "evalue": "No module named 'simpleai'",
     "output_type": "error",
     "traceback": [
      "\u001b[1;31m---------------------------------------------------------------------------\u001b[0m",
      "\u001b[1;31mModuleNotFoundError\u001b[0m                       Traceback (most recent call last)",
      "Cell \u001b[1;32mIn[1], line 1\u001b[0m\n\u001b[1;32m----> 1\u001b[0m \u001b[38;5;28;01mfrom\u001b[39;00m \u001b[38;5;21;01msimpleai\u001b[39;00m\u001b[38;5;21;01m.\u001b[39;00m\u001b[38;5;21;01msearch\u001b[39;00m \u001b[38;5;28;01mimport\u001b[39;00m SearchProblem, astar\n\u001b[0;32m      3\u001b[0m GOAL \u001b[38;5;241m=\u001b[39m \u001b[38;5;124m'\u001b[39m\u001b[38;5;124mHELLO WORLD\u001b[39m\u001b[38;5;124m'\u001b[39m\n\u001b[0;32m      5\u001b[0m \u001b[38;5;28;01mclass\u001b[39;00m \u001b[38;5;21;01mHelloProblem\u001b[39;00m(SearchProblem):\n",
      "\u001b[1;31mModuleNotFoundError\u001b[0m: No module named 'simpleai'"
     ]
    }
   ],
   "source": [
    "from simpleai.search import SearchProblem, astar\n",
    "\n",
    "GOAL = 'HELLO WORLD'\n",
    "\n",
    "class HelloProblem(SearchProblem):\n",
    "    def actions(self, state):\n",
    "        # If the current state (string) is shorter than the goal, return all possible actions (letters and space)\n",
    "        if len(state) < len(GOAL):\n",
    "            return list(' ABCDEFGHIJKLMNOPQRSTUVWXYZ')\n",
    "        else:\n",
    "            return []\n",
    "\n",
    "    def result(self, state, action):\n",
    "        # Concatenate the current state with the chosen action (letter/space) to form the next state\n",
    "        return state + action\n",
    "\n",
    "    def is_goal(self, state):\n",
    "        # Check if the current state matches the goal state\n",
    "        return state == GOAL\n",
    "\n",
    "    def heuristic(self, state):\n",
    "        # The heuristic calculates the number of incorrect letters and missing characters in the current state\n",
    "        wrong = sum([1 if state[i] != GOAL[i] else 0 for i in range(len(state))])\n",
    "        missing = len(GOAL) - len(state)\n",
    "        return wrong + missing\n",
    "\n",
    "# Create a problem instance with the initial state as an empty string\n",
    "problem = HelloProblem(initial_state='')\n",
    "\n",
    "# Use the A* search algorithm to solve the problem\n",
    "result = astar(problem)\n",
    "\n",
    "# Print the final state (the goal) and the path taken to reach it\n",
    "print(result.state)\n",
    "print(result.path())\n",
    "\n",
    "\n",
    "# 1. pip install simpleai\n",
    "# 2. pip install pydot flask"
   ]
  },
  {
   "cell_type": "markdown",
   "metadata": {},
   "source": [
    "### AO* Algorithm"
   ]
  },
  {
   "cell_type": "code",
   "execution_count": 2,
   "metadata": {},
   "outputs": [
    {
     "name": "stdout",
     "output_type": "stream",
     "text": [
      "Solution Graph: {'A': 3, 'B': 4, 'E': 3, 'F': 4, 'C': 4, 'G': 3, 'D': 2}\n"
     ]
    }
   ],
   "source": [
    "class Graph:\n",
    "    def __init__(self, graph, heuristic, start):\n",
    "        self.graph = graph  # AND-OR Graph (dictionary format)\n",
    "        self.heuristic = heuristic  # Heuristic values for each node\n",
    "        self.start = start  # Starting node\n",
    "        self.solution_graph = {}  # This will store the solution graph\n",
    "\n",
    "    def get_neighbors(self, node):\n",
    "        \"\"\"Return the neighbors (children) of the given node.\"\"\"\n",
    "        return self.graph.get(node, [])\n",
    "\n",
    "    def ao_star(self, node):\n",
    "        \"\"\"Perform the AO* algorithm.\"\"\"\n",
    "        if node not in self.solution_graph:\n",
    "            self.solution_graph[node] = self.heuristic[node]  # Initialize with heuristic value\n",
    "\n",
    "        neighbors = self.get_neighbors(node)\n",
    "        \n",
    "        # If no children (leaf node), return its heuristic value\n",
    "        if not neighbors:\n",
    "            return self.heuristic[node]\n",
    "        \n",
    "        # Evaluate all children of the current node\n",
    "        cost = {}\n",
    "        for child in neighbors:\n",
    "            if isinstance(child, list):  # AND node (all children must be solved)\n",
    "                cost[tuple(child)] = sum(self.ao_star(c) for c in child)\n",
    "            else:  # OR node (any one of the children can be solved)\n",
    "                cost[child] = self.ao_star(child)\n",
    "\n",
    "        # Find the minimum cost among all evaluated children\n",
    "        min_cost = min(cost, key=cost.get)\n",
    "        self.solution_graph[node] = self.heuristic[node] + cost[min_cost]\n",
    "\n",
    "        return self.solution_graph[node]\n",
    "\n",
    "    def print_solution(self):\n",
    "        \"\"\"Print the solution graph after running AO*.\"\"\"\n",
    "        print(\"Solution Graph:\", self.solution_graph)\n",
    "\n",
    "\n",
    "# Define the AND-OR graph as a dictionary\n",
    "# Keys represent nodes, and values represent children (AND nodes as lists)\n",
    "graph = {\n",
    "    'A': [['B', 'C'], 'D'],  # A has two options: B AND C, or D\n",
    "    'B': ['E', 'F'],          # B has two OR options: E or F\n",
    "    'C': ['G'],               # C leads to G\n",
    "    'D': [],                  # D is a terminal node\n",
    "    'E': [],                  # E is a terminal node\n",
    "    'F': [],                  # F is a terminal node\n",
    "    'G': []                   # G is a terminal node\n",
    "}\n",
    "\n",
    "# Define heuristic values for each node\n",
    "heuristic = {\n",
    "    'A': 1, 'B': 1, 'C': 1, 'D': 2, 'E': 3, 'F': 4, 'G': 3\n",
    "}\n",
    "\n",
    "# Create an AO* object and execute the algorithm\n",
    "start_node = 'A'\n",
    "ao_star_graph = Graph(graph, heuristic, start_node)\n",
    "ao_star_graph.ao_star(start_node)\n",
    "ao_star_graph.print_solution()\n"
   ]
  },
  {
   "cell_type": "code",
   "execution_count": null,
   "metadata": {},
   "outputs": [],
   "source": []
  }
 ],
 "metadata": {
  "kernelspec": {
   "display_name": "Python 3",
   "language": "python",
   "name": "python3"
  },
  "language_info": {
   "codemirror_mode": {
    "name": "ipython",
    "version": 3
   },
   "file_extension": ".py",
   "mimetype": "text/x-python",
   "name": "python",
   "nbconvert_exporter": "python",
   "pygments_lexer": "ipython3",
   "version": "3.12.7"
  }
 },
 "nbformat": 4,
 "nbformat_minor": 2
}
