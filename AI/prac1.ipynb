{
 "cells": [
  {
   "cell_type": "markdown",
   "metadata": {},
   "source": [
    "### Practical No. 1"
   ]
  },
  {
   "cell_type": "markdown",
   "metadata": {},
   "source": [
    "#### A. Aim: Write a program to implement depth first search algorithm."
   ]
  },
  {
   "cell_type": "code",
   "execution_count": 6,
   "metadata": {},
   "outputs": [
    {
     "name": "stdout",
     "output_type": "stream",
     "text": [
      "['A', 'B', 'E', 'F', 'C', 'D']\n"
     ]
    }
   ],
   "source": [
    "graph1 = {\n",
    "    'A': set(['B', 'C']),\n",
    "    'B': set(['A', 'D', 'E']),\n",
    "    'C': set(['A', 'F']),\n",
    "    'D': set(['B']),\n",
    "    'E': set(['B', 'F']),\n",
    "    'F': set(['C', 'E'])\n",
    "}\n",
    "\n",
    "def dfs(graph, node, visited):\n",
    "    if node not in visited:\n",
    "        visited.append(node)\n",
    "        for n in graph[node]:\n",
    "            dfs(graph, n, visited)\n",
    "    return visited\n",
    "\n",
    "visited = dfs(graph1, 'A', [])\n",
    "print(visited)\n"
   ]
  },
  {
   "cell_type": "markdown",
   "metadata": {},
   "source": [
    "#### B. Aim: Write a program to implement breadth first search algorithm."
   ]
  },
  {
   "cell_type": "code",
   "execution_count": 12,
   "metadata": {},
   "outputs": [
    {
     "name": "stdout",
     "output_type": "stream",
     "text": [
      "Graph Node\n",
      "{'A': 0, 'B': 1, 'C': 1, 'E': 2, 'D': 2, 'F': 2}\n",
      "{'F', 'A', 'B', 'C', 'E', 'D'}\n",
      "For Finding Breadth First Search Path\n",
      "[['A', 'C', 'F'], ['A', 'B', 'E', 'F']]\n",
      "For finding sortest path\n",
      "['A', 'C', 'F']\n"
     ]
    }
   ],
   "source": [
    "graph = {\n",
    "    'A': set(['B', 'C']),\n",
    "    'B': set(['A', 'D', 'E']),\n",
    "    'C': set(['A', 'F']),\n",
    "    'D': set(['B']),\n",
    "    'E': set(['B', 'F']),\n",
    "    'F': set(['C', 'E'])\n",
    "}\n",
    "\n",
    "# Implement Logic of BFS\n",
    "def bfs(start):\n",
    "    queue = [start]\n",
    "    levels = {} # This Dict Keeps track of levels\n",
    "    levels[start]=0 # Depth of start node is 0\n",
    "    visited = set(start)\n",
    "    while queue:\n",
    "        node = queue.pop(0)\n",
    "        neighbours=graph[node]\n",
    "        for neighbor in neighbours:\n",
    "            if neighbor not in visited:\n",
    "                queue.append(neighbor)\n",
    "                visited.add(neighbor)\n",
    "                levels[neighbor] = levels[node]+1\n",
    "    print(levels) # print graph level\n",
    "    return visited\n",
    "print(\"Graph Node\")\n",
    "print(str(bfs('A'))) # print graph node\n",
    "\n",
    "\n",
    "# For Finding Breadth First Search Path\n",
    "def bfs_paths(graph, start, goal):\n",
    "    queue = [(start, [start])]\n",
    "    while queue:\n",
    "        (vertex, path) = queue.pop(0)\n",
    "        for next in graph[vertex] - set(path):\n",
    "            if next == goal:\n",
    "                yield path + [next]\n",
    "            else:\n",
    "                queue.append((next, path + [next]))\n",
    "\n",
    "result = list(bfs_paths(graph, 'A', 'F'))\n",
    "print(\"For Finding Breadth First Search Path\")\n",
    "print(result)\n",
    "\n",
    "# For finding shortest path\n",
    "def shortest_path(graph, start, goal):\n",
    "    try:\n",
    "        return next(bfs_paths(graph, start, goal))\n",
    "    except StopIteration:\n",
    "        return None\n",
    "result1=shortest_path(graph, 'A', 'F')\n",
    "print(\"For finding sortest path\")\n",
    "print(result1)"
   ]
  }
 ],
 "metadata": {
  "kernelspec": {
   "display_name": "Python 3",
   "language": "python",
   "name": "python3"
  },
  "language_info": {
   "codemirror_mode": {
    "name": "ipython",
    "version": 3
   },
   "file_extension": ".py",
   "mimetype": "text/x-python",
   "name": "python",
   "nbconvert_exporter": "python",
   "pygments_lexer": "ipython3",
   "version": "3.12.7"
  }
 },
 "nbformat": 4,
 "nbformat_minor": 2
}
