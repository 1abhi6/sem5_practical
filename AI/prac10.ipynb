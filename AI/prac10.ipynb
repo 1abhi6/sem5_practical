{
 "cells": [
  {
   "cell_type": "markdown",
   "metadata": {},
   "source": [
    "### 10A. Write a program to derive the predicate.\n",
    "\n",
    "(for e.g.: Sachin is batsman , batsman is cricketer) - > Sachin is Cricketer."
   ]
  },
  {
   "cell_type": "code",
   "execution_count": 1,
   "metadata": {},
   "outputs": [
    {
     "name": "stdout",
     "output_type": "stream",
     "text": [
      "Sachin is a Cricketer.\n"
     ]
    }
   ],
   "source": [
    "# Define the relationships\n",
    "class IsBatsman:\n",
    "    def __init__(self, person):\n",
    "        self.person = person\n",
    "    \n",
    "    def is_batsman(self):\n",
    "        return True\n",
    "\n",
    "class IsCricketer:\n",
    "    def __init__(self, role):\n",
    "        self.role = role\n",
    "    \n",
    "    def is_cricketer(self):\n",
    "        if isinstance(self.role, IsBatsman):\n",
    "            return True\n",
    "        return False\n",
    "\n",
    "# Step 1: Sachin is a Batsman\n",
    "sachin = IsBatsman(\"Sachin\")\n",
    "\n",
    "# Step 2: Batsman is a Cricketer\n",
    "cricketer_role = IsCricketer(sachin)\n",
    "\n",
    "# Step 3: Deriving conclusion\n",
    "if cricketer_role.is_cricketer():\n",
    "    print(f\"{sachin.person} is a Cricketer.\")\n",
    "else:\n",
    "    print(f\"{sachin.person} is not a Cricketer.\")\n"
   ]
  },
  {
   "cell_type": "markdown",
   "metadata": {},
   "source": [
    "### 10B. Write a program which contains three predicates: male, female, parent. Make\n",
    "rules for following family relations: father, mother, grandfather,grandmother,\n",
    "brother, sister, uncle, aunt, nephew and niece, cousin.\n",
    "Question:\n",
    "i. Draw Family Tree.\n",
    "ii. Define: Clauses, Facts, Predicates and Rules with conjunction and\n",
    "disjunction"
   ]
  },
  {
   "cell_type": "code",
   "execution_count": 2,
   "metadata": {},
   "outputs": [
    {
     "name": "stdout",
     "output_type": "stream",
     "text": [
      "David is John's son: True\n",
      "Mary is Emma's mother: True\n",
      "John is Sophie's grandfather: True\n",
      "Linda is Tom's aunt: False\n",
      "David and Emma are siblings: True\n"
     ]
    }
   ],
   "source": [
    "# Define family members (Facts)\n",
    "male = {\"John\", \"David\", \"Michael\", \"Robert\", \"Tom\", \"Steve\"}\n",
    "female = {\"Mary\", \"Linda\", \"Sophie\", \"Emma\", \"Jessica\", \"Lucy\"}\n",
    "parent = {\n",
    "    (\"John\", \"David\"),   # John is a parent of David\n",
    "    (\"John\", \"Emma\"),    # John is a parent of Emma\n",
    "    (\"Mary\", \"David\"),   # Mary is a parent of David\n",
    "    (\"Mary\", \"Emma\"),    # Mary is a parent of Emma\n",
    "    (\"David\", \"Sophie\"), # David is a parent of Sophie\n",
    "    (\"Linda\", \"Sophie\"), # Linda is a parent of Sophie\n",
    "    (\"Emma\", \"Tom\"),     # Emma is a parent of Tom\n",
    "    (\"Michael\", \"Tom\"),  # Michael is a parent of Tom\n",
    "}\n",
    "\n",
    "# Rules for Family Relations\n",
    "def father(parent, male, X, Y):\n",
    "    \"\"\"X is the father of Y if X is male and X is a parent of Y\"\"\"\n",
    "    return (X, Y) in parent and X in male\n",
    "\n",
    "def mother(parent, female, X, Y):\n",
    "    \"\"\"X is the mother of Y if X is female and X is a parent of Y\"\"\"\n",
    "    return (X, Y) in parent and X in female\n",
    "\n",
    "def grandfather(parent, male, X, Y):\n",
    "    \"\"\"X is the grandfather of Y if X is male and a parent of one of Y's parents\"\"\"\n",
    "    return any((X, Z) in parent and (Z, Y) in parent for Z in male)\n",
    "\n",
    "def grandmother(parent, female, X, Y):\n",
    "    \"\"\"X is the grandmother of Y if X is female and a parent of one of Y's parents\"\"\"\n",
    "    return any((X, Z) in parent and (Z, Y) in parent for Z in female)\n",
    "\n",
    "def brother(parent, male, X, Y):\n",
    "    \"\"\"X is the brother of Y if X and Y share a parent and X is male\"\"\"\n",
    "    return X in male and any((Z, X) in parent and (Z, Y) in parent for Z in male | female)\n",
    "\n",
    "def sister(parent, female, X, Y):\n",
    "    \"\"\"X is the sister of Y if X and Y share a parent and X is female\"\"\"\n",
    "    return X in female and any((Z, X) in parent and (Z, Y) in parent for Z in male | female)\n",
    "\n",
    "def uncle(parent, male, X, Y):\n",
    "    \"\"\"X is the uncle of Y if X is male and a brother of one of Y's parents\"\"\"\n",
    "    return any(brother(parent, male, X, Z) and (Z, Y) in parent for Z in male | female)\n",
    "\n",
    "def aunt(parent, female, X, Y):\n",
    "    \"\"\"X is the aunt of Y if X is female and a sister of one of Y's parents\"\"\"\n",
    "    return any(sister(parent, female, X, Z) and (Z, Y) in parent for Z in male | female)\n",
    "\n",
    "def cousin(parent, X, Y):\n",
    "    \"\"\"X is a cousin of Y if X's parent and Y's parent are siblings\"\"\"\n",
    "    return any((Z, X) in parent and (W, Y) in parent and (Z, W) in parent for Z in male | female for W in male | female)\n",
    "\n",
    "# Define family relationships\n",
    "print(\"David is John's son:\", father(parent, male, \"John\", \"David\"))  # True\n",
    "print(\"Mary is Emma's mother:\", mother(parent, female, \"Mary\", \"Emma\"))  # True\n",
    "print(\"John is Sophie's grandfather:\", grandfather(parent, male, \"John\", \"Sophie\"))  # True\n",
    "print(\"Linda is Tom's aunt:\", aunt(parent, female, \"Linda\", \"Tom\"))  # False\n",
    "print(\"David and Emma are siblings:\", brother(parent, male, \"David\", \"Emma\"))  # False\n"
   ]
  },
  {
   "cell_type": "markdown",
   "metadata": {},
   "source": []
  }
 ],
 "metadata": {
  "kernelspec": {
   "display_name": "Python 3",
   "language": "python",
   "name": "python3"
  },
  "language_info": {
   "codemirror_mode": {
    "name": "ipython",
    "version": 3
   },
   "file_extension": ".py",
   "mimetype": "text/x-python",
   "name": "python",
   "nbconvert_exporter": "python",
   "pygments_lexer": "ipython3",
   "version": "3.12.7"
  }
 },
 "nbformat": 4,
 "nbformat_minor": 2
}
